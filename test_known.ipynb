{
 "cells": [
  {
   "cell_type": "code",
   "execution_count": 1,
   "metadata": {},
   "outputs": [],
   "source": [
    "import os\n",
    "import pandas as pd\n",
    "import numpy as np\n",
    "import matplotlib.pyplot as plt\n",
    "from sklearn.model_selection import StratifiedKFold, GridSearchCV\n",
    "from sklearn.model_selection import KFold\n",
    "from tqdm import tqdm\n",
    "\n",
    "from sklearn.ensemble import RandomForestClassifier\n",
    "from sklearn.metrics import accuracy_score, classification_report, confusion_matrix\n",
    "from joblib import dump"
   ]
  },
  {
   "cell_type": "code",
   "execution_count": 3,
   "metadata": {},
   "outputs": [
    {
     "name": "stdout",
     "output_type": "stream",
     "text": [
      "(34627, 785)\n"
     ]
    }
   ],
   "source": [
    "df_train = pd.read_csv(\"data/sign_mnist_train.csv\")\n",
    "df_test = pd.read_csv(\"data/sign_mnist_test.csv\")\n",
    "df = pd.concat([df_train, df_test], ignore_index=True)\n",
    "print(df.shape)"
   ]
  },
  {
   "cell_type": "code",
   "execution_count": null,
   "metadata": {},
   "outputs": [],
   "source": [
    "df.to_csv(\"data/all_train.csv\", index=False)"
   ]
  },
  {
   "cell_type": "code",
   "execution_count": null,
   "metadata": {},
   "outputs": [],
   "source": [
    "df_test_ASCII = pd.read_csv(\"../data/01_raw/test.csv\")\n",
    "df_test_ASCII_a = df_test_ASCII.iloc[:,1:785]\n",
    "df_test_ASCII_b = df_test_ASCII.iloc[:,785:]"
   ]
  },
  {
   "cell_type": "code",
   "execution_count": null,
   "metadata": {},
   "outputs": [],
   "source": [
    "columns = df_test.iloc[:,1:].columns\n",
    "df_test_ASCII_a.columns = columns\n",
    "df_test_ASCII_b.columns = columns\n",
    "\n",
    "df_test_ASCII_a[\"id\"] = df_test_ASCII[\"id\"]\n",
    "df_test_ASCII_b[\"id\"] = df_test_ASCII[\"id\"]\n",
    "\n",
    "df_test_ASCII_ab = pd.concat([df_test_ASCII_a, df_test_ASCII_b], ignore_index=True)\n",
    "print(df_test_ASCII_ab.shape)"
   ]
  },
  {
   "cell_type": "code",
   "execution_count": null,
   "metadata": {},
   "outputs": [],
   "source": [
    "df_original = pd.DataFrame()\n",
    "df_shuffled = pd.DataFrame()\n",
    "\n",
    "df_original['hash'] = df.iloc[:,1:].apply(lambda row: hash(tuple(row)), axis=1)\n",
    "df_original['label'] = df['label']\n",
    "df_shuffled['hash'] = df_test_ASCII_ab.iloc[:,:-1].apply(lambda row: hash(tuple(row)), axis=1)\n",
    "df_shuffled['id'] = df_test_ASCII_ab['id']"
   ]
  },
  {
   "cell_type": "code",
   "execution_count": null,
   "metadata": {},
   "outputs": [],
   "source": [
    "merged_df = pd.merge(df_shuffled, df_original, on='hash')"
   ]
  },
  {
   "cell_type": "code",
   "execution_count": null,
   "metadata": {},
   "outputs": [],
   "source": [
    "grouped_df = merged_df.groupby('id')['label'].agg(list).reset_index()\n",
    "grouped_df[['label_a', 'label_b']] = pd.DataFrame(grouped_df['label'].tolist(), index=grouped_df.index)\n",
    "grouped_df"
   ]
  },
  {
   "cell_type": "code",
   "execution_count": null,
   "metadata": {},
   "outputs": [],
   "source": [
    "def create_real_pred (y1, y2):\n",
    "    \"Prend 2 listes de prédictions et effectue les changements nécessaire pour obtenir les caractères souhaités\"\n",
    "    \n",
    "    #Conversion des prédictions en ascii\n",
    "    y1_asci = convert_ascii(y1)\n",
    "    y2_asci = convert_ascii(y2)\n",
    "    \n",
    "    #Opération d'addition des deux images\n",
    "    somme_ascii = [a + b for a, b in zip(y1_asci, y2_asci)]\n",
    "    \n",
    "    #Permet de gérer les valeurs asci > 122\n",
    "    ascii = []\n",
    "    for elem in somme_ascii:\n",
    "        while elem > 122:\n",
    "            elem -= 65\n",
    "        ascii.append(elem)\n",
    "        \n",
    "    #converti les valeurs ascii par leur caractère correspondant\n",
    "    real_pred = convert_asci_lettre(ascii)\n",
    "    return real_pred\n",
    "\n",
    "def convert_asci_lettre(y_pred):\n",
    "    \"Permet de convertir un vecteur de valeurs ascii [65-122] à une liste de caractères correspondant ascii\"\n",
    "    y_convert = [x - 65 for x in y_pred]\n",
    "    y_preds = pd.DataFrame({'label' : y_convert})\n",
    "    alphabet = \"ABCDEFGHIJKLMNOPQRSTUVWXYZ[\\]^_`abcdefghijklmnopqrstuvwxyz\"\n",
    "    resultat = y_preds['label'].apply(lambda x: alphabet[x])\n",
    "    return resultat\n",
    "\n",
    "def convert_ascii(y_pred):\n",
    "    \"Converti une liste de prédictions [0-25] en liste correspondante ASCII\"\n",
    "    liste_ascii = [ord('A') + i  for i in y_pred]\n",
    "    return liste_ascii\n",
    "\n",
    "\n",
    "# au cas ou\n",
    "def convert_lettre(y_pred):\n",
    "    \"Permet de convertir un vecteur de prédiction [0-25] à une liste [A-Z]\"\n",
    "    y_preds = pd.DataFrame({'label' : y_pred})\n",
    "    alphabet = \"ABCDEFGHIJKLMNOPQRSTUVWXYZ\"    \n",
    "    resultat = y_preds['label'].apply(lambda x: alphabet[x])\n",
    "    return resultat"
   ]
  },
  {
   "cell_type": "code",
   "execution_count": null,
   "metadata": {},
   "outputs": [],
   "source": [
    "pred_final = create_real_pred(grouped_df['label_a'], grouped_df['label_b'])"
   ]
  },
  {
   "cell_type": "code",
   "execution_count": null,
   "metadata": {},
   "outputs": [],
   "source": [
    "submit = pd.concat([grouped_df['id'], pred_final], axis = 1)"
   ]
  },
  {
   "cell_type": "code",
   "execution_count": null,
   "metadata": {},
   "outputs": [],
   "source": [
    "submit.to_csv(\"submit_perfect.csv\", index=False)"
   ]
  },
  {
   "cell_type": "code",
   "execution_count": null,
   "metadata": {},
   "outputs": [],
   "source": []
  },
  {
   "cell_type": "code",
   "execution_count": null,
   "metadata": {},
   "outputs": [],
   "source": []
  }
 ],
 "metadata": {
  "kernelspec": {
   "display_name": "Python 3.11.5 ('ift6758')",
   "language": "python",
   "name": "python3"
  },
  "language_info": {
   "codemirror_mode": {
    "name": "ipython",
    "version": 3
   },
   "file_extension": ".py",
   "mimetype": "text/x-python",
   "name": "python",
   "nbconvert_exporter": "python",
   "pygments_lexer": "ipython3",
   "version": "3.11.5"
  },
  "orig_nbformat": 4,
  "vscode": {
   "interpreter": {
    "hash": "76f24fe593248544fb53c45860141e2f5868563163d477b8bfa09ccbbd1149dc"
   }
  }
 },
 "nbformat": 4,
 "nbformat_minor": 2
}
